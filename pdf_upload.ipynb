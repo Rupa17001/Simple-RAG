{
 "cells": [
  {
   "cell_type": "code",
   "execution_count": 21,
   "metadata": {},
   "outputs": [
    {
     "name": "stdout",
     "output_type": "stream",
     "text": [
      "1\n",
      "On July 19, 2024, Microsoft experienced a significant outage that disrupted various services including \n",
      "Azure, Microsoft Teams, Microsoft 365, and Power BI. The issue began in the early hours of the day \n",
      "and affected users worldwide, causing considerable inc onvenience for both individual and enterprise \n",
      "users.  \n",
      "The root cause of the outage was identified as a misconfiguration during a sensor update by \n",
      "CrowdStrike, a cybersecurity firm. The update inadvertently triggered widespread disruptions across \n",
      "multiple Microsoft services. According to CrowdStrike, the probl em was related to a logic bug in the \n",
      "sensor configuration that affected the systems' ability to communicate with the Microsoft cloud \n",
      "services, leading to a cascade of failures.  \n",
      "Microsoft's Azure status page indicated that the outage impacted a variety of services, including \n",
      "Azure SQL Database, Azure Cache for Redis, and Azure Synapse Analytics, among others. These \n",
      "disruptions resulted in users being unable to access or perform es sential functions, significantly \n",
      "hampering productivity for businesses relying on these cloud services.  \n",
      "Throughout the day, Microsoft teams worked to identify and rectify the issues. The restoration \n",
      "process was gradual, with intermittent reports of services being brought back online. By the end of \n",
      "the day, most services had been restored, although some users  continued to experience residual \n",
      "issues.  \n",
      "The outage drew attention to the vulnerabilities in cloud service dependencies and the ripple effects \n",
      "that can occur when critical updates go awry. Microsoft and CrowdStrike both issued statements \n",
      "emphasizing their commitment to investigating the incident thoroughly and implementing measures \n",
      "to prevent such occurrences in the future.  \n",
      " \n"
     ]
    }
   ],
   "source": [
    "# Extracts text from the pdf\n",
    "from pypdf import PdfReader\n",
    "\n",
    "reader = PdfReader(r'C:\\Users\\Rupa Bisht\\Desktop\\Summarization\\pdf\\Microsoft_outage.pdf')\n",
    "# printing number of pages in pdf file \n",
    "print(len(reader.pages)) \n",
    "  \n",
    "\n",
    "text =\"\"\n",
    "for page in reader.pages :\n",
    "    text += page.extract_text() \n",
    "\n",
    "print(text) "
   ]
  },
  {
   "cell_type": "code",
   "execution_count": 22,
   "metadata": {},
   "outputs": [
    {
     "name": "stdout",
     "output_type": "stream",
     "text": [
      "[-1.59424007e-01  3.75841036e-02 -4.57694754e-04 -1.16830736e-01\n",
      "  4.00701225e-01 -2.64875948e-01 -1.61772296e-01  1.74419731e-01\n",
      "  3.41628671e-01 -3.83372456e-02  7.71753397e-03  4.63353992e-01\n",
      "  6.71166480e-02 -6.11041963e-01 -4.35599908e-02  5.03327176e-02\n",
      "  8.60657990e-02 -3.96891862e-01 -3.54967028e-01  1.48834020e-01\n",
      " -1.50047168e-02 -1.96079925e-01 -3.96379054e-01 -6.20594397e-02\n",
      "  4.53941561e-02  3.85729745e-02 -6.94956332e-02  3.48702781e-02\n",
      " -6.51488826e-02  8.26837644e-02  2.48158276e-01  1.95514381e-01\n",
      "  4.05521095e-01 -9.27455872e-02  2.06734300e-01 -8.78723487e-02\n",
      "  3.29517394e-01 -2.77191818e-01 -3.04389782e-02 -3.20156455e-01\n",
      " -6.17034808e-02 -1.12415120e-01 -2.05513284e-01  5.97660691e-02\n",
      "  2.54076719e-03  2.38136783e-01 -1.32037193e-01 -2.90916324e-01\n",
      " -2.34853387e-01 -3.57011706e-02  3.25749189e-01 -3.69151235e-02\n",
      "  3.00089687e-01 -4.33982089e-02  1.16678447e-01 -2.73196191e-01\n",
      "  6.55162632e-02  5.87208807e-01 -1.33893490e-01  3.70689631e-01\n",
      "  1.02215931e-01 -3.70068252e-01 -6.68314844e-02  3.32363360e-02\n",
      "  1.92571715e-01  3.29799801e-01  8.86454433e-02 -3.73927593e-01\n",
      "  2.53171325e-01 -1.48313582e-01  3.16282623e-02 -2.18309537e-02\n",
      " -3.97831202e-01 -1.62250176e-01  4.64572191e-01  2.52384931e-01\n",
      " -2.05818638e-01 -1.97898686e-01  3.39573175e-01 -1.06618412e-01\n",
      "  4.65893567e-01 -2.24557236e-01 -2.28108212e-01  2.37603813e-01\n",
      "  6.32978417e-03 -2.08921701e-01  3.46382618e-01 -1.61390185e-01\n",
      "  1.91996425e-01  1.90062858e-02 -1.56598434e-01 -3.55181754e-01\n",
      "  4.91774172e-01  2.78645188e-01  1.63539559e-01  8.21347088e-02\n",
      " -1.79064795e-01 -6.65250719e-02  3.28787304e-02 -7.11019188e-02\n",
      " -1.58095539e-01  6.58041164e-02 -3.22478980e-01  7.54041038e-03\n",
      "  6.42068833e-02 -4.86269474e-01  2.61445820e-01  2.25642845e-01\n",
      "  2.75262594e-01 -2.88143121e-02 -5.91472834e-02 -2.40495011e-01\n",
      "  2.62892276e-01  7.05347732e-02 -2.04633530e-02 -7.81740993e-02\n",
      " -7.59421960e-02  1.88524097e-01 -3.13949823e-01 -3.30920309e-01\n",
      "  4.38283049e-02  1.48061469e-01 -2.04505831e-01 -1.32387578e-01\n",
      "  4.55686375e-02  3.05614769e-01 -8.64420682e-02  3.46435577e-01\n",
      " -3.44189525e-01 -6.22616231e-01 -1.32427752e-01 -1.03954330e-01\n",
      "  4.23114806e-01 -2.30110556e-01  1.18347853e-01 -6.96595237e-02\n",
      "  2.31936704e-02 -1.72028810e-01  3.22167933e-01  3.15987617e-02\n",
      "  7.87339881e-02  4.03328426e-02  1.65296227e-01 -1.03137188e-01\n",
      " -1.88384786e-01  4.70689863e-01  7.40443319e-02  3.00678998e-01\n",
      "  3.44776839e-01 -4.06488836e-01  1.54379979e-01 -6.05821386e-02\n",
      " -2.33116671e-01  3.97812366e-01 -1.61345035e-01  1.15037009e-01\n",
      "  3.19403350e-01  6.83213919e-02  1.68442324e-01 -1.86605304e-01\n",
      " -7.49798939e-02  4.29665018e-03  1.60778686e-01  2.94028223e-01\n",
      "  7.11656988e-01 -8.30532610e-02 -2.65768111e-01  4.96695340e-02\n",
      " -9.52011794e-02  2.71268308e-01 -1.37322143e-01  1.52821559e-02\n",
      "  1.02054879e-01 -3.51474851e-01  3.33229154e-01 -3.27436358e-01\n",
      " -4.61215153e-04  3.65078777e-01 -1.76381722e-01  1.67899415e-01\n",
      "  1.58787936e-01  1.42048061e-01  9.23923329e-02  1.87482223e-01\n",
      " -7.52937496e-02  6.99696764e-02  1.85911566e-01 -9.43883136e-02\n",
      " -1.26213524e-02  8.38461518e-02 -2.24978507e-01 -2.10142300e-01\n",
      "  3.56500983e-01 -2.69845948e-02  1.39285654e-01  3.29030938e-02\n",
      " -3.29635620e-01  2.19000027e-01  1.51682049e-01 -1.38172686e-01\n",
      " -5.84720112e-02  7.63470381e-02 -4.56061184e-01  3.57415900e-02\n",
      " -3.28763992e-01  3.74179482e-02 -3.33787858e-01 -2.25583568e-01\n",
      "  2.98093289e-01 -1.41345680e-01  1.19131945e-01 -2.44746611e-01\n",
      " -3.67652565e-01  3.86562571e-02 -9.24996436e-02 -8.13922659e-02\n",
      " -3.07553947e-01 -4.17804383e-02  1.24687642e-01  1.59722611e-01\n",
      " -4.60714847e-02  6.40175566e-02 -2.92869359e-01 -3.11769545e-01\n",
      " -1.18070893e-01 -1.84696615e-01 -1.49221808e-01  2.00414658e-02\n",
      "  1.21687666e-01  3.28226805e-01 -1.32142201e-01  3.70970100e-01\n",
      "  6.63548633e-02  2.58176327e-01  1.91232905e-01 -2.46284112e-01\n",
      " -2.60148346e-01  3.28468382e-02 -2.88804889e-01  2.57233195e-02\n",
      " -5.36195934e-04 -1.39004916e-01 -2.70806670e-01 -9.14465822e-03\n",
      "  4.58605215e-02  2.35500023e-01 -4.42698091e-01  1.22472055e-01\n",
      "  4.49617431e-02  2.38866508e-01 -9.65919718e-03  1.83277652e-02\n",
      " -1.47727877e-01 -3.54179144e-02 -1.96938202e-01  3.67148161e-01\n",
      "  8.54577273e-02 -1.13520436e-02 -1.09463381e-02  1.94048196e-01\n",
      "  2.14331612e-01 -2.60664672e-02 -1.93788603e-01 -2.12984815e-01\n",
      "  1.18284866e-01  1.94779545e-01 -8.12337399e-02  3.19703639e-01\n",
      " -1.35822222e-01  1.64400935e-01 -3.61392945e-02 -2.38927394e-01\n",
      "  4.68755424e-01 -1.77891016e-01  4.84844387e-01 -6.30183518e-02\n",
      "  3.68836105e-01  5.17544970e-02 -1.73955292e-01 -2.22730041e-02\n",
      "  1.40844852e-01 -2.00153038e-01  1.36219233e-01  2.16314495e-01\n",
      "  1.12268910e-01 -8.17491412e-02 -8.72854739e-02 -3.59439254e-01\n",
      " -1.05011575e-01  4.90639359e-04  8.43021423e-02  3.09649482e-02\n",
      "  2.83676088e-01  4.53296378e-02  1.38504267e-01 -3.48113850e-02\n",
      " -2.30357483e-01 -8.39007273e-02  1.80149246e-02  1.27863482e-01\n",
      " -6.58459425e-01  7.76457228e-03 -2.04163104e-01  7.00524598e-02\n",
      " -4.22891080e-01  1.89281702e-02 -7.17186257e-02 -6.81326017e-02\n",
      "  6.96643889e-02 -2.84134388e-01  7.18751699e-02  6.81475848e-02\n",
      " -2.46547192e-01 -4.53754812e-02 -2.35369533e-01  1.22124821e-01\n",
      " -4.35135156e-01  3.02308321e-01 -1.77436054e-01  1.18287161e-01\n",
      "  7.26775676e-02  7.06606358e-03 -6.90348521e-02  3.17969799e-01\n",
      "  3.00630510e-01  1.34744719e-01 -1.21665336e-01  2.67629921e-01\n",
      " -1.65821165e-02  1.10520571e-01 -1.38614669e-01 -7.47964391e-03\n",
      " -2.84380078e-01  3.45362544e-01  2.83356339e-01 -1.23027682e-01\n",
      " -1.41980335e-01  5.99274561e-02 -1.15030169e-01 -2.75391191e-01\n",
      " -2.05652013e-01 -6.68748990e-02 -5.31843677e-02 -2.93182552e-01\n",
      "  2.11987659e-01  2.45574743e-01  1.83685809e-01  4.62196946e-01\n",
      " -9.84671190e-02 -2.73053944e-01 -2.35819682e-01  7.39109963e-02\n",
      " -1.70223206e-01 -1.09455608e-01 -3.84529412e-01  5.48660100e-01\n",
      " -1.65358689e-02  1.83764532e-01  1.76910833e-02 -4.42827009e-02\n",
      "  6.84027523e-02 -2.28389353e-01 -2.95946032e-01  3.32793504e-01\n",
      " -6.04460575e-02  1.55909598e-01 -1.26516402e-01  3.97738934e-01\n",
      "  9.73669216e-02  1.38109207e-01  1.01013213e-01 -3.45097244e-01\n",
      " -1.60410851e-01  3.24411899e-01  3.55961382e-01 -2.22867191e-01\n",
      "  2.22051255e-02 -3.53443712e-01 -1.37369677e-01  2.19118506e-01\n",
      " -3.59489709e-01 -3.56612168e-03  1.99470237e-01 -1.57368004e-01]\n"
     ]
    }
   ],
   "source": [
    "# using sentence_transformers to make vectors of the extracteed text\n",
    "from sentence_transformers import SentenceTransformer\n",
    "\n",
    "model = SentenceTransformer('paraphrase-MiniLM-L6-v2')\n",
    "emb = model.encode(text)\n",
    "\n",
    "print (emb)"
   ]
  },
  {
   "cell_type": "code",
   "execution_count": 23,
   "metadata": {},
   "outputs": [
    {
     "data": {
      "text/plain": [
       "True"
      ]
     },
     "execution_count": 23,
     "metadata": {},
     "output_type": "execute_result"
    }
   ],
   "source": [
    "# it makes connection with elastic\n",
    "from elasticsearch import Elasticsearch\n",
    "es = Elasticsearch([{'host':'localhost','port':9200, 'scheme':'http'}])\n",
    "es.ping()"
   ]
  },
  {
   "cell_type": "code",
   "execution_count": 24,
   "metadata": {},
   "outputs": [],
   "source": [
    "# if the index with the same name exists [it has no use here(only when you want to delete the index), meanwhile let it remain commented]\n",
    "# es.indices.delete(index=\"summarization_pdf\",ignore_unavailable=True)\n",
    "\n",
    "# Query to create the index, it's how the data will get mapped[basically data deifining]\n",
    "# text [stores the text extracted from the document ]\n",
    "# text_embedding [stores vectors of the text ]\n",
    "# run this once [because you can't create an index with same name every time]\n",
    "# es.indices.create(\n",
    "#     index = \"summarization_pdf\",\n",
    "#     mappings={\n",
    "#         \"properties\": {\n",
    "#                 \"text\": {\n",
    "#                     \"type\": \"text\"    \n",
    "#                 },\n",
    "#                 \"username\": {\n",
    "#                     \"type\": \"text\"\n",
    "                    \n",
    "#                 },\n",
    "#                 \"text_embedding\": {\n",
    "#                     \"type\": \"dense_vector\",\n",
    "#                     \"dims\": 384\n",
    "#                 },\n",
    "#                 \"fId\": {\n",
    "#                     \"type\": \"text\"\n",
    "#                 },\n",
    "#                 \"fileName\":{\n",
    "#                     \"type\":\"text\"\n",
    "#                 },\n",
    "#                 \"pageNo\": {\n",
    "#                     \"type\": \"text\"\n",
    "#                 },\n",
    "#                 \"tables\": {\n",
    "#                     \"type\":\"keyword\"\n",
    "#                }\n",
    "#         }\n",
    "#     }\n",
    "# )"
   ]
  },
  {
   "cell_type": "code",
   "execution_count": 25,
   "metadata": {},
   "outputs": [
    {
     "data": {
      "text/plain": [
       "ObjectApiResponse({'_index': 'summarization_pdf', '_id': '40PXO5EBtDsXdsaGfTX2', '_version': 1, 'result': 'created', '_shards': {'total': 2, 'successful': 1, 'failed': 0}, '_seq_no': 7, '_primary_term': 4})"
      ]
     },
     "execution_count": 25,
     "metadata": {},
     "output_type": "execute_result"
    }
   ],
   "source": [
    "#  index [where the data will get stored in the Elasticsearch]\n",
    "index = \"summarization_pdf\"\n",
    "doc={\"text_embedding\": emb ,\n",
    "     \"text\": text}\n",
    "# elastic call to post data in the elasticsearch index\n",
    "es.index(index = index, body=doc)"
   ]
  },
  {
   "cell_type": "code",
   "execution_count": 26,
   "metadata": {},
   "outputs": [],
   "source": [
    "# Query from user \n",
    "query = \"When did the Microdsoft systems were causing trouble ?\"\n",
    "# Embeddings od the query(so that it could first search the document (vectors) in elastic)\n",
    "query_emb = model.encode(query)\n",
    "\n"
   ]
  },
  {
   "cell_type": "code",
   "execution_count": 27,
   "metadata": {},
   "outputs": [],
   "source": [
    "# search Query\n",
    "search_query = {\n",
    "    \"query\": {\n",
    "        \"script_score\": {\n",
    "            \"query\": {\n",
    "                \"match_all\": {}\n",
    "            },\n",
    "            \"script\": {\n",
    "                \"source\": \"cosineSimilarity(params.query_vector, 'text_embedding') + 1.0\",\n",
    "                \"params\": {\n",
    "                    \"query_vector\": query_emb\n",
    "                }\n",
    "            }\n",
    "        }\n",
    "    },\n",
    "    \"size\": 1 \n",
    "}\n",
    "\n",
    "# the search call to elastic\n",
    "response = es.search(index=index, body=search_query)"
   ]
  },
  {
   "cell_type": "code",
   "execution_count": 28,
   "metadata": {},
   "outputs": [
    {
     "name": "stdout",
     "output_type": "stream",
     "text": [
      "On July 19, 2024, Microsoft experienced a significant outage that disrupted various services including \n",
      "Azure, Microsoft Teams, Microsoft 365, and Power BI. The issue began in the early hours of the day \n",
      "and affected users worldwide, causing considerable inc onvenience for both individual and enterprise \n",
      "users.  \n",
      "The root cause of the outage was identified as a misconfiguration during a sensor update by \n",
      "CrowdStrike, a cybersecurity firm. The update inadvertently triggered widespread disruptions across \n",
      "multiple Microsoft services. According to CrowdStrike, the probl em was related to a logic bug in the \n",
      "sensor configuration that affected the systems' ability to communicate with the Microsoft cloud \n",
      "services, leading to a cascade of failures.  \n",
      "Microsoft's Azure status page indicated that the outage impacted a variety of services, including \n",
      "Azure SQL Database, Azure Cache for Redis, and Azure Synapse Analytics, among others. These \n",
      "disruptions resulted in users being unable to access or perform es sential functions, significantly \n",
      "hampering productivity for businesses relying on these cloud services.  \n",
      "Throughout the day, Microsoft teams worked to identify and rectify the issues. The restoration \n",
      "process was gradual, with intermittent reports of services being brought back online. By the end of \n",
      "the day, most services had been restored, although some users  continued to experience residual \n",
      "issues.  \n",
      "The outage drew attention to the vulnerabilities in cloud service dependencies and the ripple effects \n",
      "that can occur when critical updates go awry. Microsoft and CrowdStrike both issued statements \n",
      "emphasizing their commitment to investigating the incident thoroughly and implementing measures \n",
      "to prevent such occurrences in the future.  \n",
      " \n"
     ]
    }
   ],
   "source": [
    "#  just iterating the searched text from response(above)\n",
    "\n",
    "for hit in response['hits']['hits']:\n",
    "    get_text = hit['_source']['text']\n",
    "    print(get_text)"
   ]
  },
  {
   "cell_type": "code",
   "execution_count": 29,
   "metadata": {},
   "outputs": [
    {
     "name": "stdout",
     "output_type": "stream",
     "text": [
      "-> Request ResponseJson: [{'generated_text': \"[INST] You are a helpful Q&A assistant. Your task is to answer this question: When did the Microdsoft systems were causing trouble ?.Use only the information from this text: On July 19, 2024, Microsoft experienced a significant outage that disrupted various services including \\nAzure, Microsoft Teams, Microsoft 365, and Power BI. The issue began in the early hours of the day \\nand affected users worldwide, causing considerable inc onvenience for both individual and enterprise \\nusers.  \\nThe root cause of the outage was identified as a misconfiguration during a sensor update by \\nCrowdStrike, a cybersecurity firm. The update inadvertently triggered widespread disruptions across \\nmultiple Microsoft services. According to CrowdStrike, the probl em was related to a logic bug in the \\nsensor configuration that affected the systems' ability to communicate with the Microsoft cloud \\nservices, leading to a cascade of failures.  \\nMicrosoft's Azure status page indicated that the outage impacted a variety of services, including \\nAzure SQL Database, Azure Cache for Redis, and Azure Synapse Analytics, among others. These \\ndisruptions resulted in users being unable to access or perform es sential functions, significantly \\nhampering productivity for businesses relying on these cloud services.  \\nThroughout the day, Microsoft teams worked to identify and rectify the issues. The restoration \\nprocess was gradual, with intermittent reports of services being brought back online. By the end of \\nthe day, most services had been restored, although some users  continued to experience residual \\nissues.  \\nThe outage drew attention to the vulnerabilities in cloud service dependencies and the ripple effects \\nthat can occur when critical updates go awry. Microsoft and CrowdStrike both issued statements \\nemphasizing their commitment to investigating the incident thoroughly and implementing measures \\nto prevent such occurrences in the future.  \\n ,Provide answer in as less words as possible,If the answer is not contained in the text, reply with I'm unable to answer the question based on the information I have.. Response [/INST] On July 19, 2024, Microsoft services like Azure, Microsoft Teams, Microsoft 365, and Power BI were disrupted due to a misconfiguration during a sensor update by CrowdStrike. This caused a logic bug that affected the systems' ability to communicate with Microsoft cloud services, leading to a cascade of failures.\"}]\n",
      "-> Request Response: <Response [200]>\n",
      "-> Request Payload: {'parameters': {'max_new_tokens': 2000}, 'inputs': \"[INST] You are a helpful Q&A assistant. Your task is to answer this question: When did the Microdsoft systems were causing trouble ?.Use only the information from this text: On July 19, 2024, Microsoft experienced a significant outage that disrupted various services including \\nAzure, Microsoft Teams, Microsoft 365, and Power BI. The issue began in the early hours of the day \\nand affected users worldwide, causing considerable inc onvenience for both individual and enterprise \\nusers.  \\nThe root cause of the outage was identified as a misconfiguration during a sensor update by \\nCrowdStrike, a cybersecurity firm. The update inadvertently triggered widespread disruptions across \\nmultiple Microsoft services. According to CrowdStrike, the probl em was related to a logic bug in the \\nsensor configuration that affected the systems' ability to communicate with the Microsoft cloud \\nservices, leading to a cascade of failures.  \\nMicrosoft's Azure status page indicated that the outage impacted a variety of services, including \\nAzure SQL Database, Azure Cache for Redis, and Azure Synapse Analytics, among others. These \\ndisruptions resulted in users being unable to access or perform es sential functions, significantly \\nhampering productivity for businesses relying on these cloud services.  \\nThroughout the day, Microsoft teams worked to identify and rectify the issues. The restoration \\nprocess was gradual, with intermittent reports of services being brought back online. By the end of \\nthe day, most services had been restored, although some users  continued to experience residual \\nissues.  \\nThe outage drew attention to the vulnerabilities in cloud service dependencies and the ripple effects \\nthat can occur when critical updates go awry. Microsoft and CrowdStrike both issued statements \\nemphasizing their commitment to investigating the incident thoroughly and implementing measures \\nto prevent such occurrences in the future.  \\n ,Provide answer in as less words as possible,If the answer is not contained in the text, reply with I'm unable to answer the question based on the information I have.. Response [/INST]\"}\n",
      "-> Payload Size: 2200\n",
      "-> Response Status Code: 200\n",
      "-> Response Content: b'[{\"generated_text\":\"[INST] You are a helpful Q&A assistant. Your task is to answer this question: When did the Microdsoft systems were causing trouble ?.Use only the information from this text: On July 19, 2024, Microsoft experienced a significant outage that disrupted various services including \\\\nAzure, Microsoft Teams, Microsoft 365, and Power BI. The issue began in the early hours of the day \\\\nand affected users worldwide, causing considerable inc onvenience for both individual and enterprise \\\\nusers.  \\\\nThe root cause of the outage was identified as a misconfiguration during a sensor update by \\\\nCrowdStrike, a cybersecurity firm. The update inadvertently triggered widespread disruptions across \\\\nmultiple Microsoft services. According to CrowdStrike, the probl em was related to a logic bug in the \\\\nsensor configuration that affected the systems\\' ability to communicate with the Microsoft cloud \\\\nservices, leading to a cascade of failures.  \\\\nMicrosoft\\'s Azure status page indicated that the outage impacted a variety of services, including \\\\nAzure SQL Database, Azure Cache for Redis, and Azure Synapse Analytics, among others. These \\\\ndisruptions resulted in users being unable to access or perform es sential functions, significantly \\\\nhampering productivity for businesses relying on these cloud services.  \\\\nThroughout the day, Microsoft teams worked to identify and rectify the issues. The restoration \\\\nprocess was gradual, with intermittent reports of services being brought back online. By the end of \\\\nthe day, most services had been restored, although some users  continued to experience residual \\\\nissues.  \\\\nThe outage drew attention to the vulnerabilities in cloud service dependencies and the ripple effects \\\\nthat can occur when critical updates go awry. Microsoft and CrowdStrike both issued statements \\\\nemphasizing their commitment to investigating the incident thoroughly and implementing measures \\\\nto prevent such occurrences in the future.  \\\\n ,Provide answer in as less words as possible,If the answer is not contained in the text, reply with I\\'m unable to answer the question based on the information I have.. Response [/INST] On July 19, 2024, Microsoft services like Azure, Microsoft Teams, Microsoft 365, and Power BI were disrupted due to a misconfiguration during a sensor update by CrowdStrike. This caused a logic bug that affected the systems\\' ability to communicate with Microsoft cloud services, leading to a cascade of failures.\"}]'\n",
      "-> Response Content len: 2510\n"
     ]
    }
   ],
   "source": [
    "#  here comes the llm\n",
    "# calling llm mistral[link : https://api-inference.huggingface.co/models/mistralai/Mixtral-8x7B-Instruct-v0.1] from the hugging face \n",
    "\n",
    "import requests\n",
    "def query_mistral(payload):\n",
    "\n",
    "    #  configurations to make call to mistral\n",
    "    API_URL = \"https://api-inference.huggingface.co/models/mistralai/Mixtral-8x7B-Instruct-v0.1\"\n",
    "    # obviously I am not sharing the token and too lazy to use dotenv\n",
    "    API_TOKEN = \"hf_________________________________ChL\"\n",
    "\n",
    "    # prepares the headers for http request\n",
    "    headers = {\"Authorization\": f\"Bearer {API_TOKEN}\"}\n",
    "\n",
    "    # the prompt is sent to llm with other parameters and llm's[mistral here] response is stored in the response variable\n",
    "    response = requests.post(API_URL, headers=headers, json=payload)\n",
    "\n",
    "    # just to debug information\n",
    "    print(\"-> Request ResponseJson:\", response.json()) # returns the response[the generated text] by the model\n",
    "    print(\"-> Request Response:\", response) # returns the status [like 200 if succeed]\n",
    "    print(\"-> Request Payload:\", payload) \n",
    "    print(\"-> Payload Size:\", len(str(payload)))\n",
    "    print(\"-> Response Status Code:\", response.status_code)\n",
    "    print(\"-> Response Content:\", response.content) # returns the response[the generated text] by the model\n",
    "    print(\"-> Response Content len:\", len(str(response.content)))\n",
    "    \n",
    "    try:\n",
    "        # if any API error occurs it prints error an return NONE\n",
    "        if response.status_code != 200:\n",
    "            print(f\"Error: Received status code {response.status_code}\")\n",
    "            return None\n",
    "        \n",
    "        # So the model returns the text with prompt in the list name 'generated_text' along with the prompt we send,\n",
    "        #  so hereby wee are abstacting only generated text \n",
    "        # the prompt text is stored Under the [INST][/INST] tag, hence the text after [INST][/INST] is the model genrated text which is beig extracted in next few lines\n",
    "\n",
    "        data = response.json()  # storing the list in data \n",
    "        generated_text = data[0]['generated_text'] # get only Data at 0th index\n",
    "        prompt_index = generated_text.find('[/INST]') # the [/INST] tags were appended\n",
    "\n",
    "        # if prompt_index is not empty then generated_text = text after [/INST]\n",
    "        if prompt_index != -1:\n",
    "            generated_text = generated_text[prompt_index + len('[/INST]'):]\n",
    "        return generated_text\n",
    "    except requests.exceptions.RequestException as e:\n",
    "        print(\"Request exception:\", e)\n",
    "        return None\n",
    "    except ValueError as e:\n",
    "        print(\"Value error:\", e)\n",
    "        return None\n",
    "\n",
    "#  Setting the prompt\n",
    "negResponse = \"I'm unable to answer the question based on the information I have.\"\n",
    "prompt = f\"[INST] You are a helpful Q&A assistant. Your task is to answer this question: {query}.Use only the information from this text: {get_text},Provide answer in as less words as possible,If the answer is not contained in the text, reply with {negResponse}. Response [/INST]\"\n",
    "#  setting token limit, so that prompt stay under the tocken limit of the model\n",
    "max_new_tokens = 2000\n",
    "max_token = 28000\n",
    "input_tokens = max_token - max_new_tokens\n",
    "model_name='mistralai/Mixtral-8x7B-Instruct-v0.1'\n",
    "\n",
    "\n",
    "# call to the function that calls the model/llm[mistral]\n",
    "data = query_mistral({\"parameters\": {\"max_new_tokens\": max_new_tokens}, \"inputs\": prompt})\n",
    "\n",
    "\n",
    "\n"
   ]
  },
  {
   "cell_type": "code",
   "execution_count": 30,
   "metadata": {},
   "outputs": [
    {
     "name": "stdout",
     "output_type": "stream",
     "text": [
      "You Asked ========>   When did the Microdsoft systems were causing trouble ?\n",
      "Answer =========>  On July 19, 2024, Microsoft services like Azure, Microsoft Teams, Microsoft 365, and Power BI were disrupted due to a misconfiguration during a sensor update by CrowdStrike. This caused a logic bug that affected the systems' ability to communicate with Microsoft cloud services, leading to a cascade of failures.\n"
     ]
    }
   ],
   "source": [
    "#  the final output\n",
    "print(\"You Asked ========>  \",query)\n",
    "print(\"Answer =========>\",data)"
   ]
  }
 ],
 "metadata": {
  "kernelspec": {
   "display_name": "myenv",
   "language": "python",
   "name": "python3"
  },
  "language_info": {
   "codemirror_mode": {
    "name": "ipython",
    "version": 3
   },
   "file_extension": ".py",
   "mimetype": "text/x-python",
   "name": "python",
   "nbconvert_exporter": "python",
   "pygments_lexer": "ipython3",
   "version": "3.11.9"
  }
 },
 "nbformat": 4,
 "nbformat_minor": 2
}
